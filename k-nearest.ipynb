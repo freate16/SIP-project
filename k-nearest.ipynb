{
 "cells": [
  {
   "cell_type": "code",
   "execution_count": null,
   "metadata": {},
   "outputs": [
    {
     "name": "stderr",
     "output_type": "stream",
     "text": [
      "C:\\Users\\juwel\\AppData\\Local\\Temp\\ipykernel_13172\\2108198473.py:41: RuntimeWarning: overflow encountered in scalar subtract\n",
      "  diffs = [(abs(x - roi_center_pixel), x) for x in roi_list]\n"
     ]
    }
   ],
   "source": [
    "import numpy as np\n",
    "import rasterio\n",
    "import matplotlib.pyplot as plt\n",
    "\n",
    "tiff_path =  \"C:/Users/juwel/Downloads/subset_image_new.tif\"\n",
    "with rasterio.open(tiff_path) as src:\n",
    "    image = src.read()  \n",
    "    original_crs = src.crs  \n",
    "    transform = src.transform \n",
    "bands, height, width = image.shape\n",
    "\n",
    "\n",
    "size = int(input(\"Enter the size of your kernel: \"))\n",
    "k = int(input(\"Enter the value of k (for K-nearest neighbors): \"))\n",
    "\n",
    "if size % 2 == 0:\n",
    "    size += 1\n",
    "\n",
    "pad_size = size // 2\n",
    "k_nearest_image = np.zeros_like(image)\n",
    "avg_image = np.zeros_like(image)\n",
    "\n",
    "for band in range(bands):\n",
    "    padded_band = np.pad(image[band], ((pad_size, pad_size), (pad_size, pad_size)), mode=\"edge\")\n",
    "\n",
    "    for i in range(height):\n",
    "        for j in range(width):\n",
    "            roi = padded_band[i:i + size, j:j + size]\n",
    "            roi_center_pixel = padded_band[i + pad_size, j + pad_size]\n",
    "           \n",
    "            roi_list = roi.flatten()\n",
    "            diffs = [(abs(x - roi_center_pixel), x) for x in roi_list]\n",
    "\n",
    "            diffs.sort(key=lambda x: x[0])\n",
    "            neighbours = [x[1] for x in diffs[:k + 1]] \n",
    "           \n",
    "            average_neighbour = np.mean(neighbours)\n",
    "            k_nearest_image[band, i, j] = average_neighbour\n",
    "\n",
    "            avg_image[band, i, j] = np.mean(roi)\n",
    "\n",
    "\n",
    "output_path = \"D:/Rubel/M.Tech/1st Sem/GNR-607/Assignment/K-nearest/New folder/K-nearest_NEW2.tif\"\n",
    "with rasterio.open(output_path,'w',\n",
    "                   driver = 'GTiff',\n",
    "                   height=height,\n",
    "                   width = width,\n",
    "                   count = bands,\n",
    "                   dtype=image.dtype,\n",
    "                   crs=original_crs,\n",
    "                   transform=transform\n",
    "                   ) as dst:\n",
    "                         dst.write(k_nearest_image)\n",
    "\n",
    "output_path = \"D:/Rubel/M.Tech/1st Sem/GNR-607/Assignment/K-nearest/New folder/New_avg_filter2.tif\"\n",
    "with rasterio.open(output_path,'w',\n",
    "                   driver = 'GTiff',\n",
    "                   height=height,\n",
    "                   width = width,\n",
    "                   count = bands,\n",
    "                   dtype=image.dtype,\n",
    "                   crs=original_crs,\n",
    "                   transform=transform\n",
    "                   ) as dst:\n",
    "                         dst.write(avg_image)\n",
    "\n",
    "\n"
   ]
  }
 ],
 "metadata": {
  "kernelspec": {
   "display_name": "Python 3",
   "language": "python",
   "name": "python3"
  },
  "language_info": {
   "codemirror_mode": {
    "name": "ipython",
    "version": 3
   },
   "file_extension": ".py",
   "mimetype": "text/x-python",
   "name": "python",
   "nbconvert_exporter": "python",
   "pygments_lexer": "ipython3",
   "version": "3.12.3"
  }
 },
 "nbformat": 4,
 "nbformat_minor": 2
}
